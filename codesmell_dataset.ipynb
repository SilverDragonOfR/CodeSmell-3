{
 "cells": [
  {
   "cell_type": "code",
   "execution_count": null,
   "metadata": {},
   "outputs": [],
   "source": [
    "import os\n",
    "import shutil\n",
    "import requests\n",
    "from github import Github\n",
    "import pandas as pd\n",
    "import matplotlib.pyplot as plt\n",
    "import seaborn as sns\n"
   ]
  },
  {
   "cell_type": "code",
   "execution_count": null,
   "metadata": {},
   "outputs": [],
   "source": [
    "GITHUB_TOKEN = \"git_token\"\n",
    "g = Github(GITHUB_TOKEN)\n",
    "\n",
    "OUTPUT_FOLDER = \"data/java_train/\"\n",
    "os.makedirs(OUTPUT_FOLDER, exist_ok=True)\n",
    "\n",
    "QUERY = \"language:Java stars:>100\"\n",
    "MAX_FILES = 5000\n",
    "\n",
    "def download_java_files():\n",
    "    count = 0\n",
    "    for repo in g.search_repositories(query=QUERY, sort=\"stars\", order=\"desc\"):\n",
    "        try:\n",
    "            contents = repo.get_contents(\"\")\n",
    "            while contents:\n",
    "                file_content = contents.pop(0)\n",
    "                if file_content.type == \"dir\":\n",
    "                    contents.extend(repo.get_contents(file_content.path))\n",
    "                elif file_content.name.endswith(\".java\"):\n",
    "                    file_data = requests.get(file_content.download_url).text\n",
    "                    file_path = os.path.join(OUTPUT_FOLDER, file_content.name)\n",
    "                    with open(file_path, \"w\", encoding=\"utf-8\") as f:\n",
    "                        f.write(file_data)\n",
    "                    print(f\"Downloaded: {file_content.name}\")\n",
    "                    count += 1\n",
    "                    if count >= MAX_FILES:\n",
    "                        return\n",
    "        except Exception as e:\n",
    "            print(f\"Error processing repo {repo.full_name}: {e}\")\n",
    "\n",
    "download_java_files()\n",
    "print(\"Download complete.\")"
   ]
  },
  {
   "cell_type": "code",
   "execution_count": null,
   "metadata": {},
   "outputs": [],
   "source": [
    "input_csv = \"class.csv\"\n",
    "output_csv = \"class_modified.csv\"\n",
    "\n",
    "df = pd.read_csv(input_csv)\n",
    "df = df.drop(columns=['file', 'class', 'type'])\n",
    "\n",
    "df.to_csv(output_csv, index=False)\n",
    "\n",
    "print(f\"Modified CSV saved as {output_csv}\")"
   ]
  },
  {
   "cell_type": "code",
   "execution_count": null,
   "metadata": {},
   "outputs": [],
   "source": [
    "df = pd.read_csv(\"class_modified.csv\")\n",
    "\n",
    "print(df.describe())\n",
    "print(df.isnull().sum())\n",
    "print(df.columns)"
   ]
  },
  {
   "cell_type": "code",
   "execution_count": null,
   "metadata": {},
   "outputs": [],
   "source": [
    "df.hist(figsize=(12, 10), bins=30)\n",
    "plt.show()\n",
    "\n",
    "plt.figure(figsize=(12, 6))\n",
    "sns.boxplot(data=df)\n",
    "plt.xticks(rotation=90)\n",
    "plt.show()"
   ]
  },
  {
   "cell_type": "code",
   "execution_count": null,
   "metadata": {},
   "outputs": [],
   "source": [
    "print(df[['wmc', 'dit', 'cbo', 'rfc', 'loc', 'fanin', 'fanout', 'assignmentsQty', 'loopQty', 'tryCatchQty']].quantile(0.90))"
   ]
  },
  {
   "cell_type": "code",
   "execution_count": null,
   "metadata": {},
   "outputs": [],
   "source": [
    "def label_code_smell(row):\n",
    "    if (row['wmc'] > 18) or (row['dit'] > 3) or (row['cbo'] > 8) or \\\n",
    "       (row['rfc'] > 15) or (row['loc'] > 120) or (row['fanin'] > 5) or \\\n",
    "       (row['fanout'] > 10) or (row['assignmentsQty'] > 20) or \\\n",
    "       (row['loopQty'] > 3) or (row['tryCatchQty'] > 1):\n",
    "        return 1\n",
    "    return 0"
   ]
  },
  {
   "cell_type": "code",
   "execution_count": null,
   "metadata": {},
   "outputs": [],
   "source": [
    "df['label'] = df.apply(label_code_smell, axis=1)\n",
    "\n",
    "dataclass_path = \"data/dataset/\"\n",
    "os.makedirs(dataclass_path, exist_ok=True)\n",
    "df.to_csv(os.path.join(dataclass_path, \"dataclass_metrics.csv\"), index=False)\n",
    "print(\"Dataset Metrics saved\")"
   ]
  },
  {
   "cell_type": "code",
   "execution_count": null,
   "metadata": {},
   "outputs": [],
   "source": [
    "df = pd.read_csv(input_csv)\n",
    "df['label'] = df.apply(label_code_smell, axis=1)\n",
    "df = df[['file', 'class', 'label']]\n",
    "df.to_csv(os.path.join(dataclass_path, \"dataclass_labels.csv\"), index=False)\n",
    "print(\"Dataset Labels saved\")"
   ]
  },
  {
   "cell_type": "code",
   "execution_count": null,
   "metadata": {},
   "outputs": [],
   "source": [
    "def delete_file_if_exists(filepath):\n",
    "    os.path.exists(filepath) and shutil.rmtree(filepath)\n",
    "\n",
    "delete_file_if_exists('class.csv')\n",
    "delete_file_if_exists('method.csv')\n",
    "delete_file_if_exists('class_modified.csv')\n",
    "print(\"Deleted ck_output files\")"
   ]
  }
 ],
 "metadata": {
  "kernelspec": {
   "display_name": ".venv",
   "language": "python",
   "name": "python3"
  },
  "language_info": {
   "codemirror_mode": {
    "name": "ipython",
    "version": 3
   },
   "file_extension": ".py",
   "mimetype": "text/x-python",
   "name": "python",
   "nbconvert_exporter": "python",
   "pygments_lexer": "ipython3",
   "version": "3.12.8"
  }
 },
 "nbformat": 4,
 "nbformat_minor": 2
}
