{
 "cells": [
  {
   "cell_type": "code",
   "execution_count": null,
   "metadata": {},
   "outputs": [],
   "source": [
    "import pandas as pd\n",
    "import joblib\n",
    "import os\n",
    "import warnings\n",
    "from sklearn.model_selection import train_test_split\n",
    "from sklearn.impute import SimpleImputer\n",
    "from sklearn.preprocessing import RobustScaler\n",
    "from sklearn.feature_selection import SelectKBest, f_classif\n",
    "from mlxtend.feature_selection import SequentialFeatureSelector\n",
    "from sklearn.ensemble import RandomForestClassifier\n",
    "from sklearn.linear_model import LogisticRegression\n",
    "from sklearn.pipeline import Pipeline\n",
    "from sklearn.metrics import accuracy_score, f1_score, precision_score, recall_score, confusion_matrix\n",
    "\n",
    "warnings.filterwarnings('ignore')"
   ]
  },
  {
   "cell_type": "code",
   "execution_count": null,
   "metadata": {},
   "outputs": [],
   "source": [
    "dataclass_metrics_path = 'data/dataset/dataclass_metrics.csv'\n",
    "\n",
    "df = pd.read_csv(dataclass_metrics_path)\n",
    "X = df.drop(columns=['label'])\n",
    "y = df['label']\n",
    "\n",
    "numerical_cols = X.select_dtypes(include=['number']).columns.tolist()\n",
    "\n",
    "preprocessing_pipeline = Pipeline([\n",
    "    ('imputer', SimpleImputer(strategy='median')),\n",
    "    ('scaler', RobustScaler())\n",
    "])\n",
    "\n",
    "X[numerical_cols] = preprocessing_pipeline.fit_transform(X[numerical_cols])"
   ]
  },
  {
   "cell_type": "code",
   "execution_count": null,
   "metadata": {},
   "outputs": [],
   "source": [
    "k_fisher = int(0.6 * X.shape[1])\n",
    "selector = SelectKBest(score_func=f_classif, k=k_fisher)\n",
    "X_fisher_selected = selector.fit_transform(X, y)\n",
    "fisher_selected_features = X.columns[selector.get_support()].tolist()\n",
    "\n",
    "X_train, X_test, y_train, y_test = train_test_split(X[fisher_selected_features], y, test_size=0.3, random_state=42, stratify=y)\n",
    "\n",
    "sfs_model = LogisticRegression(random_state=42)\n",
    "sfs = SequentialFeatureSelector(sfs_model, k_features='best', forward=True, floating=False, scoring='accuracy', cv=2)\n",
    "sfs.fit(X_train, y_train)\n",
    "final_selected_features = list(sfs.k_feature_names_)"
   ]
  },
  {
   "cell_type": "code",
   "execution_count": null,
   "metadata": {},
   "outputs": [],
   "source": [
    "final_model = RandomForestClassifier(random_state=42, n_estimators=300)\n",
    "final_model.fit(X_train[final_selected_features], y_train)\n",
    "\n",
    "os.makedirs('output', exist_ok=True)\n",
    "joblib.dump(preprocessing_pipeline, 'output/preprocessing_pipeline.joblib')\n",
    "joblib.dump(final_selected_features, 'output/selected_features.joblib')\n",
    "joblib.dump(final_model, 'output/final_model.joblib')\n",
    "\n",
    "print(\"Training Complete. Model and pipeline saved.\")"
   ]
  },
  {
   "cell_type": "code",
   "execution_count": null,
   "metadata": {},
   "outputs": [],
   "source": [
    "preprocessing_pipeline = joblib.load('output/preprocessing_pipeline.joblib')\n",
    "selected_features = joblib.load('output/selected_features.joblib')\n",
    "final_model = joblib.load('output/final_model.joblib')\n",
    "\n",
    "test_data = pd.read_csv(dataclass_metrics_path)\n",
    "X_test = test_data.drop(columns=['label'])\n",
    "y_test = test_data['label']"
   ]
  },
  {
   "cell_type": "code",
   "execution_count": null,
   "metadata": {},
   "outputs": [],
   "source": [
    "numerical_cols = X_test.select_dtypes(include=['number']).columns.tolist()\n",
    "X_test[numerical_cols] = preprocessing_pipeline.transform(X_test[numerical_cols])\n",
    "\n",
    "X_test_final = X_test[selected_features]\n",
    "y_pred = final_model.predict(X_test_final)"
   ]
  },
  {
   "cell_type": "code",
   "execution_count": null,
   "metadata": {},
   "outputs": [],
   "source": [
    "test_accuracy = accuracy_score(y_test, y_pred)\n",
    "test_f1 = f1_score(y_test, y_pred)\n",
    "test_precision = precision_score(y_test, y_pred)\n",
    "test_recall = recall_score(y_test, y_pred)\n",
    "test_confusion = confusion_matrix(y_test, y_pred)\n",
    "\n",
    "print(\"Performance Metrics:\")\n",
    "print(f\"Accuracy: {test_accuracy:.4f}\")\n",
    "print(f\"F1-Score: {test_f1:.4f}\")\n",
    "print(f\"Precision: {test_precision:.4f}\")\n",
    "print(f\"Recall: {test_recall:.4f}\")"
   ]
  }
 ],
 "metadata": {
  "kernelspec": {
   "display_name": "venv",
   "language": "python",
   "name": "python3"
  },
  "language_info": {
   "codemirror_mode": {
    "name": "ipython",
    "version": 3
   },
   "file_extension": ".py",
   "mimetype": "text/x-python",
   "name": "python",
   "nbconvert_exporter": "python",
   "pygments_lexer": "ipython3",
   "version": "3.11.4"
  }
 },
 "nbformat": 4,
 "nbformat_minor": 2
}
