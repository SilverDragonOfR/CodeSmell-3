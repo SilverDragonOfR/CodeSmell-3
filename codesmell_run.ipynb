{
 "cells": [
  {
   "cell_type": "code",
   "execution_count": 35,
   "metadata": {},
   "outputs": [],
   "source": [
    "import subprocess\n",
    "import pandas as pd\n",
    "import os\n",
    "import joblib\n",
    "import shutil"
   ]
  },
  {
   "cell_type": "code",
   "execution_count": 36,
   "metadata": {},
   "outputs": [],
   "source": [
    "java_code_folder = \"C:/Users/rachi/OneDrive/Desktop/MyFolder/CodeSmell - 3/data/java\"\n",
    "\n",
    "ck_jar_path = 'ck-0.7.1.jar'\n",
    "ck_output_folder = 'ck_output'\n",
    "combined_dataset_file = 'combined_code_metrics.csv'\n",
    "pipeline_path = 'output/code_smell_preprocessing_pipeline.joblib'\n",
    "features_path = 'output/selected_features.joblib'\n",
    "model_path = 'output/code_smell_detection_model.joblib'"
   ]
  },
  {
   "cell_type": "code",
   "execution_count": 37,
   "metadata": {},
   "outputs": [
    {
     "name": "stdout",
     "output_type": "stream",
     "text": [
      "Running CK tool to extract metrics...\n",
      "CK tool finished. Output files saved in: ck_output\n"
     ]
    }
   ],
   "source": [
    "print(\"Running CK tool to extract metrics...\")\n",
    "os.makedirs(ck_output_folder, exist_ok=True)\n",
    "\n",
    "ck_command = [\n",
    "    'java',\n",
    "    '-jar',\n",
    "    os.path.join(\"..\", ck_jar_path),\n",
    "    java_code_folder,\n",
    "    'false',\n",
    "    '0',\n",
    "    'false'\n",
    "]\n",
    "\n",
    "try:\n",
    "    subprocess.run(ck_command, check=True, capture_output=True, text=True, cwd=ck_output_folder)\n",
    "    print(f\"CK tool finished. Output files saved in: {ck_output_folder}\")\n",
    "except subprocess.CalledProcessError as e:\n",
    "    print(f\"Error running CK tool: {e}\")\n",
    "    print(f\"Stdout: {e.stdout}\")\n",
    "    print(f\"Stderr: {e.stderr}\")\n",
    "    os.path.exists(ck_output_folder) and shutil.rmtree(ck_output_folder)"
   ]
  },
  {
   "cell_type": "code",
   "execution_count": 38,
   "metadata": {},
   "outputs": [
    {
     "name": "stdout",
     "output_type": "stream",
     "text": [
      "Running Code Smell Detection...\n",
      "\n",
      "Code Smell Predictions for the Java classes (C:/Users/rachi/OneDrive/Desktop/MyFolder/CodeSmell - 3/data/java):\n",
      "Class: ConcreteHandler2, Predicted Label: 0\n",
      "Class: ConcreteHandler1, Predicted Label: 0\n",
      "Class: ChainOfResponsibilityExample, Predicted Label: 0\n",
      "Class: OrderProcessor, Predicted Label: 1\n",
      "Class: AbstractHandler, Predicted Label: 0\n"
     ]
    }
   ],
   "source": [
    "print(\"Running Code Smell Detection...\", end=\"\\n\\n\")\n",
    "\n",
    "try:\n",
    "    loaded_pipeline = joblib.load(pipeline_path)\n",
    "    selected_features = joblib.load(features_path)\n",
    "    loaded_model = joblib.load(model_path)\n",
    "\n",
    "    new_data = pd.read_csv(os.path.join(ck_output_folder, \"class.csv\"))\n",
    "\n",
    "    missing_features = [feature for feature in selected_features if feature not in new_data.columns]\n",
    "    if missing_features:\n",
    "        print(f\"Error: The following selected features are missing in the new data: {missing_features}\")\n",
    "        print(\"Please ensure the CK output contains the necessary metrics.\")\n",
    "\n",
    "    new_data_selected = new_data[selected_features]\n",
    "    new_data_processed = loaded_pipeline.transform(new_data_selected)\n",
    "    predictions = loaded_model.predict(new_data_processed)\n",
    "\n",
    "    print(f\"Code Smell Predictions for the Java classes ({java_code_folder}):\")\n",
    "    for index, prediction in enumerate(predictions):\n",
    "        class_name = new_data['class'].iloc[index]\n",
    "        print(f\"Class: {class_name}, Predicted Label: {prediction}\")\n",
    "\n",
    "except FileNotFoundError as e:\n",
    "    print(f\"Error: Could not find saved model or features: {e.filename}\")\n",
    "except Exception as e:\n",
    "    print(f\"An error occurred during prediction: {e}\")\n",
    "finally:\n",
    "    os.path.exists(ck_output_folder) and shutil.rmtree(ck_output_folder)"
   ]
  }
 ],
 "metadata": {
  "kernelspec": {
   "display_name": "venv",
   "language": "python",
   "name": "python3"
  },
  "language_info": {
   "codemirror_mode": {
    "name": "ipython",
    "version": 3
   },
   "file_extension": ".py",
   "mimetype": "text/x-python",
   "name": "python",
   "nbconvert_exporter": "python",
   "pygments_lexer": "ipython3",
   "version": "3.11.4"
  }
 },
 "nbformat": 4,
 "nbformat_minor": 2
}
