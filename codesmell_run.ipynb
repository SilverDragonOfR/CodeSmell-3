{
 "cells": [
  {
   "cell_type": "code",
   "execution_count": 1,
   "metadata": {},
   "outputs": [],
   "source": [
    "import subprocess\n",
    "import pandas as pd\n",
    "import os\n",
    "import joblib\n",
    "import shutil"
   ]
  },
  {
   "cell_type": "code",
   "execution_count": 2,
   "metadata": {},
   "outputs": [],
   "source": [
    "def run_test(codesmell):\n",
    "    java_code_labels = f\"C:/Users/rachi/OneDrive/Desktop/MyFolder/CodeSmell - 3/data/dataset/{codesmell}/{codesmell}_labels.csv\"\n",
    "    java_code_folder = \"C:/Users/rachi/OneDrive/Desktop/MyFolder/CodeSmell - 3/data/java_test\"\n",
    "    java_code_train = \"C:/Users/rachi/OneDrive/Desktop/MyFolder/CodeSmell - 3/data/java_train\"\n",
    "    \n",
    "    ck_jar_path = 'ck-0.7.1.jar'\n",
    "    ck_output_folder = 'ck_output'\n",
    "    \n",
    "    preprocessing_pipeline_path = f'output/{codesmell}/preprocessing_pipeline.joblib'\n",
    "    selected_features_path = f'output/{codesmell}/selected_features.joblib'\n",
    "    final_model_path = f'output/{codesmell}/final_model.joblib'\n",
    "    \n",
    "    print(\"Running CK tool to extract metrics...\")\n",
    "    os.makedirs(ck_output_folder, exist_ok=True)\n",
    "\n",
    "    ck_command = ['java', '-jar', os.path.join(\"..\", ck_jar_path), java_code_folder, 'false', '0', 'false']\n",
    "\n",
    "    try:\n",
    "        subprocess.run(ck_command, check=True, capture_output=True, text=True, cwd=ck_output_folder)\n",
    "        print(f\"CK tool finished. Output files saved in: {ck_output_folder}\")\n",
    "    except subprocess.CalledProcessError as e:\n",
    "        print(f\"Error running CK tool: {e}\")\n",
    "        print(f\"Stdout: {e.stdout}\")\n",
    "        print(f\"Stderr: {e.stderr}\")\n",
    "        os.path.exists(ck_output_folder) and shutil.rmtree(ck_output_folder)\n",
    "        \n",
    "    def remove_prefix_path(full_path, prefix_path):\n",
    "        return os.path.relpath(full_path, prefix_path)\n",
    "    \n",
    "    code_labels_df = pd.read_csv(java_code_labels)\n",
    "    code_labels = {\n",
    "        (remove_prefix_path(row['file'], java_code_train), row['class']): row['label'] for _, row in code_labels_df.iterrows()\n",
    "    }\n",
    "    \n",
    "    print(f\"Running Code Smell Detection ({codesmell})...\", end=\"\\n\\n\")\n",
    "\n",
    "    try:\n",
    "        loaded_pipeline = joblib.load(preprocessing_pipeline_path)\n",
    "        selected_features = joblib.load(selected_features_path)\n",
    "        loaded_model = joblib.load(final_model_path)\n",
    "\n",
    "        new_data = pd.read_csv(os.path.join(ck_output_folder, \"class.csv\"))\n",
    "\n",
    "        missing_features = [feature for feature in selected_features if feature not in new_data.columns]\n",
    "        if missing_features:\n",
    "            print(f\"Error: The following selected features are missing in the new data: {missing_features}\")\n",
    "            print(\"Please ensure the CK output contains the necessary metrics.\")\n",
    "\n",
    "        numerical_cols = new_data.select_dtypes(include=['number']).columns.tolist()\n",
    "        new_data[numerical_cols] = loaded_pipeline.transform(new_data[numerical_cols])\n",
    "        new_data_final = new_data[selected_features]\n",
    "        predictions = loaded_model.predict(new_data_final)\n",
    "\n",
    "        correct, total = 0, 0\n",
    "        \n",
    "        print(f\"Code Smell ({codesmell}) Predictions for the Java classes ({java_code_folder}):\")\n",
    "        for index, prediction in enumerate(predictions):\n",
    "            file_name = remove_prefix_path(new_data['file'].iloc[index], java_code_folder)\n",
    "            class_name = new_data['class'].iloc[index]\n",
    "            actual = code_labels[(file_name, class_name)]\n",
    "            if prediction==actual:\n",
    "                correct += 1\n",
    "            total += 1\n",
    "            # print(f\"File: {file_name}, Class: {class_name}, Predicted Label: {prediction}, Actual Label: {actual}\")\n",
    "        \n",
    "        print(f\"Correct {correct}/{total} = {int(correct/total*100)}%\")\n",
    "\n",
    "    except FileNotFoundError as e:\n",
    "        print(f\"Error: Could not find saved model or features: {e.filename}\")\n",
    "    except Exception as e:\n",
    "        print(f\"An error occurred during prediction: {e}\")\n",
    "    finally:\n",
    "        os.path.exists(ck_output_folder) and shutil.rmtree(ck_output_folder)"
   ]
  },
  {
   "cell_type": "code",
   "execution_count": 3,
   "metadata": {},
   "outputs": [
    {
     "name": "stdout",
     "output_type": "stream",
     "text": [
      "Running CK tool to extract metrics...\n",
      "CK tool finished. Output files saved in: ck_output\n",
      "Running Code Smell Detection (featureenvy)...\n",
      "\n",
      "Code Smell (featureenvy) Predictions for the Java classes (C:/Users/rachi/OneDrive/Desktop/MyFolder/CodeSmell - 3/data/java_test):\n",
      "Correct 15/15 = 100%\n"
     ]
    }
   ],
   "source": [
    "run_test('featureenvy')"
   ]
  },
  {
   "cell_type": "code",
   "execution_count": 4,
   "metadata": {},
   "outputs": [
    {
     "name": "stdout",
     "output_type": "stream",
     "text": [
      "Running CK tool to extract metrics...\n",
      "CK tool finished. Output files saved in: ck_output\n",
      "Running Code Smell Detection (godclass)...\n",
      "\n",
      "Code Smell (godclass) Predictions for the Java classes (C:/Users/rachi/OneDrive/Desktop/MyFolder/CodeSmell - 3/data/java_test):\n",
      "Correct 14/15 = 93%\n"
     ]
    }
   ],
   "source": [
    "run_test('godclass')"
   ]
  },
  {
   "cell_type": "code",
   "execution_count": 5,
   "metadata": {},
   "outputs": [
    {
     "name": "stdout",
     "output_type": "stream",
     "text": [
      "Running CK tool to extract metrics...\n",
      "CK tool finished. Output files saved in: ck_output\n",
      "Running Code Smell Detection (longmethod)...\n",
      "\n",
      "Code Smell (longmethod) Predictions for the Java classes (C:/Users/rachi/OneDrive/Desktop/MyFolder/CodeSmell - 3/data/java_test):\n",
      "Correct 15/15 = 100%\n"
     ]
    }
   ],
   "source": [
    "run_test('longmethod')"
   ]
  },
  {
   "cell_type": "code",
   "execution_count": 6,
   "metadata": {},
   "outputs": [
    {
     "name": "stdout",
     "output_type": "stream",
     "text": [
      "Running CK tool to extract metrics...\n",
      "CK tool finished. Output files saved in: ck_output\n",
      "Running Code Smell Detection (longparameter)...\n",
      "\n",
      "Code Smell (longparameter) Predictions for the Java classes (C:/Users/rachi/OneDrive/Desktop/MyFolder/CodeSmell - 3/data/java_test):\n",
      "Correct 15/15 = 100%\n"
     ]
    }
   ],
   "source": [
    "run_test('longparameter')"
   ]
  },
  {
   "cell_type": "code",
   "execution_count": 7,
   "metadata": {},
   "outputs": [
    {
     "name": "stdout",
     "output_type": "stream",
     "text": [
      "Running CK tool to extract metrics...\n",
      "CK tool finished. Output files saved in: ck_output\n",
      "Running Code Smell Detection (refusedbequest)...\n",
      "\n",
      "Code Smell (refusedbequest) Predictions for the Java classes (C:/Users/rachi/OneDrive/Desktop/MyFolder/CodeSmell - 3/data/java_test):\n",
      "Correct 15/15 = 100%\n"
     ]
    }
   ],
   "source": [
    "run_test('refusedbequest')"
   ]
  },
  {
   "cell_type": "code",
   "execution_count": 8,
   "metadata": {},
   "outputs": [
    {
     "name": "stdout",
     "output_type": "stream",
     "text": [
      "Running CK tool to extract metrics...\n",
      "CK tool finished. Output files saved in: ck_output\n",
      "Running Code Smell Detection (shotgunsurgery)...\n",
      "\n",
      "Code Smell (shotgunsurgery) Predictions for the Java classes (C:/Users/rachi/OneDrive/Desktop/MyFolder/CodeSmell - 3/data/java_test):\n",
      "Correct 15/15 = 100%\n"
     ]
    }
   ],
   "source": [
    "run_test('shotgunsurgery')"
   ]
  }
 ],
 "metadata": {
  "kernelspec": {
   "display_name": "venv",
   "language": "python",
   "name": "python3"
  },
  "language_info": {
   "codemirror_mode": {
    "name": "ipython",
    "version": 3
   },
   "file_extension": ".py",
   "mimetype": "text/x-python",
   "name": "python",
   "nbconvert_exporter": "python",
   "pygments_lexer": "ipython3",
   "version": "3.11.4"
  }
 },
 "nbformat": 4,
 "nbformat_minor": 2
}
