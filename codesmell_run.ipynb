{
 "cells": [
  {
   "cell_type": "code",
   "execution_count": 6,
   "metadata": {},
   "outputs": [],
   "source": [
    "import subprocess\n",
    "import pandas as pd\n",
    "import os\n",
    "import joblib\n",
    "import shutil"
   ]
  },
  {
   "cell_type": "code",
   "execution_count": 7,
   "metadata": {},
   "outputs": [],
   "source": [
    "java_code_folder = \"C:/Users/rachi/OneDrive/Desktop/MyFolder/CodeSmell - 3/data/java\"\n",
    "\n",
    "ck_jar_path = 'ck-0.7.1.jar'\n",
    "ck_output_folder = 'ck_output'\n",
    "combined_dataset_file = 'combined_code_metrics.csv'\n",
    "pipeline_path = 'output/code_smell_preprocessing_pipeline.joblib'\n",
    "features_path = 'output/selected_features.joblib'\n",
    "model_path = 'output/code_smell_detection_model.joblib'"
   ]
  },
  {
   "cell_type": "code",
   "execution_count": 8,
   "metadata": {},
   "outputs": [
    {
     "name": "stdout",
     "output_type": "stream",
     "text": [
      "Running CK tool to extract metrics...\n",
      "CK tool finished. Output files saved in: ck_output\n"
     ]
    }
   ],
   "source": [
    "print(\"Running CK tool to extract metrics...\")\n",
    "os.makedirs(ck_output_folder, exist_ok=True)\n",
    "\n",
    "ck_command = [\n",
    "    'java',\n",
    "    '-jar',\n",
    "    os.path.join(\"..\", ck_jar_path),\n",
    "    java_code_folder,\n",
    "    'false',\n",
    "    '0',\n",
    "    'false'\n",
    "]\n",
    "\n",
    "try:\n",
    "    subprocess.run(ck_command, check=True, capture_output=True, text=True, cwd=ck_output_folder)\n",
    "    print(f\"CK tool finished. Output files saved in: {ck_output_folder}\")\n",
    "except subprocess.CalledProcessError as e:\n",
    "    print(f\"Error running CK tool: {e}\")\n",
    "    print(f\"Stdout: {e.stdout}\")\n",
    "    print(f\"Stderr: {e.stderr}\")\n",
    "    os.path.exists(ck_output_folder) and shutil.rmtree(ck_output_folder)"
   ]
  },
  {
   "cell_type": "code",
   "execution_count": 9,
   "metadata": {},
   "outputs": [],
   "source": [
    "code_labels = {\n",
    "    \"file_3763661.java\": 1,\n",
    "    \"file_5394068.java\": 1,\n",
    "    \"file_8347642.java\": 1,\n",
    "    \"file_5991953.java\": 1,\n",
    "    \"file_3727271.java\": 1,\n",
    "    \"file_4558704.java\": 1,\n",
    "    \"file_4933806.java\": 0,\n",
    "    \"file_5766093.java\": 0,\n",
    "    \"file_8497585.java\": 0,\n",
    "    \"file_5668440.java\": 0,\n",
    "    \"file_7280795.java\": 0,\n",
    "    \"file_4129438.java\": 0,\n",
    "    \"file_8008116.java\": 0,\n",
    "    \"file_4794099.java\": 0,\n",
    "    \"file_4435545.java\": 0\n",
    "}\n"
   ]
  },
  {
   "cell_type": "code",
   "execution_count": 10,
   "metadata": {},
   "outputs": [
    {
     "name": "stdout",
     "output_type": "stream",
     "text": [
      "Running Code Smell Detection...\n",
      "\n",
      "Code Smell Predictions for the Java classes (C:/Users/rachi/OneDrive/Desktop/MyFolder/CodeSmell - 3/data/java):\n",
      "File: file_4933806.java, Class: LocaleComparator, Predicted Label: 0, Actual Label: 0\n",
      "File: file_5668440.java, Class: RdfFreemarkerCli, Predicted Label: 0, Actual Label: 0\n",
      "File: file_5991953.java, Class: ShapeMarshaller, Predicted Label: 1, Actual Label: 1\n",
      "File: file_7280795.java, Class: ShopPolicy, Predicted Label: 0, Actual Label: 0\n",
      "File: file_8497585.java, Class: VmDiskStatisticsDaoImpl, Predicted Label: 0, Actual Label: 0\n",
      "File: file_4435545.java, Class: BacklogMetricBean, Predicted Label: 0, Actual Label: 0\n",
      "File: file_4558704.java, Class: TemplateConfiguration, Predicted Label: 1, Actual Label: 1\n",
      "File: file_5394068.java, Class: MetricsIndexerSource, Predicted Label: 1, Actual Label: 1\n",
      "File: file_3763661.java, Class: SetOrderReferenceDetailsRequest, Predicted Label: 1, Actual Label: 1\n",
      "File: file_8347642.java, Class: Callout, Predicted Label: 1, Actual Label: 1\n",
      "File: file_5766093.java, Class: JPAURelationship, Predicted Label: 0, Actual Label: 0\n",
      "Correct 11/11 = 100%\n"
     ]
    }
   ],
   "source": [
    "print(\"Running Code Smell Detection...\", end=\"\\n\\n\")\n",
    "\n",
    "try:\n",
    "    loaded_pipeline = joblib.load(pipeline_path)\n",
    "    selected_features = joblib.load(features_path)\n",
    "    loaded_model = joblib.load(model_path)\n",
    "\n",
    "    new_data = pd.read_csv(os.path.join(ck_output_folder, \"class.csv\"))\n",
    "\n",
    "    missing_features = [feature for feature in selected_features if feature not in new_data.columns]\n",
    "    if missing_features:\n",
    "        print(f\"Error: The following selected features are missing in the new data: {missing_features}\")\n",
    "        print(\"Please ensure the CK output contains the necessary metrics.\")\n",
    "\n",
    "    new_data_selected = new_data[selected_features]\n",
    "    new_data_processed = loaded_pipeline.transform(new_data_selected)\n",
    "    predictions = loaded_model.predict(new_data_processed)\n",
    "\n",
    "    correct, total = 0, 0\n",
    "    \n",
    "    print(f\"Code Smell Predictions for the Java classes ({java_code_folder}):\")\n",
    "    for index, prediction in enumerate(predictions):\n",
    "        class_name = new_data['class'].iloc[index]\n",
    "        file = os.path.basename(new_data['file'].iloc[index])\n",
    "        actual = code_labels[file]\n",
    "        if prediction==actual:\n",
    "            correct += 1\n",
    "        total += 1\n",
    "        print(f\"File: {file}, Class: {class_name}, Predicted Label: {prediction}, Actual Label: {actual}\")\n",
    "    \n",
    "    print(f\"Correct {correct}/{total} = {int(correct/total*100)}%\")\n",
    "\n",
    "except FileNotFoundError as e:\n",
    "    print(f\"Error: Could not find saved model or features: {e.filename}\")\n",
    "except Exception as e:\n",
    "    print(f\"An error occurred during prediction: {e}\")\n",
    "finally:\n",
    "    os.path.exists(ck_output_folder) and shutil.rmtree(ck_output_folder)"
   ]
  }
 ],
 "metadata": {
  "kernelspec": {
   "display_name": "venv",
   "language": "python",
   "name": "python3"
  },
  "language_info": {
   "codemirror_mode": {
    "name": "ipython",
    "version": 3
   },
   "file_extension": ".py",
   "mimetype": "text/x-python",
   "name": "python",
   "nbconvert_exporter": "python",
   "pygments_lexer": "ipython3",
   "version": "3.11.4"
  }
 },
 "nbformat": 4,
 "nbformat_minor": 2
}
