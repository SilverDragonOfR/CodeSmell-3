{
 "cells": [
  {
   "cell_type": "code",
   "execution_count": 1,
   "metadata": {},
   "outputs": [],
   "source": [
    "import subprocess\n",
    "import pandas as pd\n",
    "import os\n",
    "import joblib\n",
    "import shutil"
   ]
  },
  {
   "cell_type": "code",
   "execution_count": 2,
   "metadata": {},
   "outputs": [],
   "source": [
    "java_code_labels = \"C:/Users/shanu/Documents/BTP/CodeSmell-3/data/dataset/dataclass_labels.csv\"\n",
    "java_code_folder = \"C:/Users/shanu/Documents/BTP/CodeSmell-3/data/java_test\"\n",
    "java_code_train = \"C:/Users/shanu/Documents/BTP/CodeSmell-3/data/java_train\"\n",
    "\n",
    "ck_jar_path = 'ck-0.7.1.jar'\n",
    "ck_output_folder = 'ck_output'\n",
    "\n",
    "preprocessing_pipeline_path = 'output/preprocessing_pipeline.joblib'\n",
    "selected_features_path = 'output/selected_features.joblib'\n",
    "final_model_path = 'output/final_model.joblib'"
   ]
  },
  {
   "cell_type": "code",
   "execution_count": 3,
   "metadata": {},
   "outputs": [
    {
     "name": "stdout",
     "output_type": "stream",
     "text": [
      "Running CK tool to extract metrics...\n",
      "CK tool finished. Output files saved in: ck_output\n"
     ]
    }
   ],
   "source": [
    "print(\"Running CK tool to extract metrics...\")\n",
    "os.makedirs(ck_output_folder, exist_ok=True)\n",
    "\n",
    "ck_command = [\n",
    "    'java',\n",
    "    '-jar',\n",
    "    os.path.join(\"..\", ck_jar_path),\n",
    "    java_code_folder,\n",
    "    'false',\n",
    "    '0',\n",
    "    'false'\n",
    "]\n",
    "\n",
    "try:\n",
    "    subprocess.run(ck_command, check=True, capture_output=True, text=True, cwd=ck_output_folder)\n",
    "    print(f\"CK tool finished. Output files saved in: {ck_output_folder}\")\n",
    "except subprocess.CalledProcessError as e:\n",
    "    print(f\"Error running CK tool: {e}\")\n",
    "    print(f\"Stdout: {e.stdout}\")\n",
    "    print(f\"Stderr: {e.stderr}\")\n",
    "    os.path.exists(ck_output_folder) and shutil.rmtree(ck_output_folder)"
   ]
  },
  {
   "cell_type": "code",
   "execution_count": 4,
   "metadata": {},
   "outputs": [],
   "source": [
    "def remove_prefix_path(full_path, prefix_path):\n",
    "    return os.path.relpath(full_path, prefix_path)"
   ]
  },
  {
   "cell_type": "code",
   "execution_count": 5,
   "metadata": {},
   "outputs": [],
   "source": [
    "code_labels_df = pd.read_csv(java_code_labels)\n",
    "code_labels = {\n",
    "    (remove_prefix_path(row['file'], java_code_train), row['class']): row['label'] for _, row in code_labels_df.iterrows()\n",
    "}"
   ]
  },
  {
   "cell_type": "code",
   "execution_count": 6,
   "metadata": {},
   "outputs": [
    {
     "name": "stdout",
     "output_type": "stream",
     "text": [
      "Running Code Smell Detection...\n",
      "\n",
      "Code Smell Predictions for the Java classes (C:/Users/shanu/Documents/BTP/CodeSmell-3/data/java_test):\n",
      "True\n",
      "File: unbounded_knapsack.java, Class: chapter_dynamic_programming.unbounded_knapsack, Predicted Label: 1, Actual Label: 1\n",
      "True\n",
      "File: CellTest.java, Class: com.iluwatar.typeobject.CellTest, Predicted Label: 0, Actual Label: 0\n",
      "True\n",
      "File: OmsOrderController.java, Class: com.macro.mall.controller.OmsOrderController, Predicted Label: 1, Actual Label: 1\n",
      "True\n",
      "File: SmsCouponHistoryController.java, Class: com.macro.mall.controller.SmsCouponHistoryController, Predicted Label: 1, Actual Label: 1\n",
      "True\n",
      "File: SmsFlashPromotionMapper.java, Class: com.macro.mall.mapper.SmsFlashPromotionMapper, Predicted Label: 0, Actual Label: 0\n",
      "True\n",
      "File: WeatherObserver.java, Class: com.iluwatar.observer.WeatherObserver, Predicted Label: 0, Actual Label: 0\n",
      "True\n",
      "File: BullyMessageManagerTest.java, Class: com.iluwatar.leaderelection.bully.BullyMessageManagerTest, Predicted Label: 1, Actual Label: 1\n",
      "True\n",
      "File: InvalidNextStateException.java, Class: com.iluwatar.idempotentconsumer.InvalidNextStateException, Predicted Label: 0, Actual Label: 1\n",
      "True\n",
      "File: LogAggregator.java, Class: com.iluwatar.logaggregation.LogAggregator, Predicted Label: 1, Actual Label: 1\n",
      "True\n",
      "File: PersonFinder.java, Class: com.iluwatar.identitymap.PersonFinder, Predicted Label: 0, Actual Label: 0\n",
      "True\n",
      "File: RenderComponent.java, Class: com.iluwatar.data.locality.game.component.RenderComponent, Predicted Label: 0, Actual Label: 0\n",
      "True\n",
      "File: WashingMachineState.java, Class: com.iluwatar.balking.WashingMachineState, Predicted Label: 0, Actual Label: 0\n",
      "True\n",
      "File: RedisCacheAspect.java, Class: com.macro.mall.security.aspect.RedisCacheAspect, Predicted Label: 1, Actual Label: 1\n",
      "True\n",
      "File: IvoryTower.java, Class: com.iluwatar.singleton.IvoryTower, Predicted Label: 0, Actual Label: 0\n",
      "True\n",
      "File: LotteryConsoleService.java, Class: com.iluwatar.hexagonal.service.LotteryConsoleService, Predicted Label: 0, Actual Label: 0\n",
      "Correct 14/15 = 93%\n"
     ]
    }
   ],
   "source": [
    "print(\"Running Code Smell Detection...\", end=\"\\n\\n\")\n",
    "\n",
    "try:\n",
    "    loaded_pipeline = joblib.load(preprocessing_pipeline_path)\n",
    "    selected_features = joblib.load(selected_features_path)\n",
    "    loaded_model = joblib.load(final_model_path)\n",
    "\n",
    "    new_data = pd.read_csv(os.path.join(ck_output_folder, \"class.csv\"))\n",
    "\n",
    "    missing_features = [feature for feature in selected_features if feature not in new_data.columns]\n",
    "    if missing_features:\n",
    "        print(f\"Error: The following selected features are missing in the new data: {missing_features}\")\n",
    "        print(\"Please ensure the CK output contains the necessary metrics.\")\n",
    "\n",
    "    numerical_cols = new_data.select_dtypes(include=['number']).columns.tolist()\n",
    "    new_data[numerical_cols] = loaded_pipeline.transform(new_data[numerical_cols])\n",
    "    new_data_final = new_data[selected_features]\n",
    "    predictions = loaded_model.predict(new_data_final)\n",
    "\n",
    "    correct, total = 0, 0\n",
    "    \n",
    "    print(f\"Code Smell Predictions for the Java classes ({java_code_folder}):\")\n",
    "    for index, prediction in enumerate(predictions):\n",
    "        file_name = remove_prefix_path(new_data['file'].iloc[index], java_code_folder)\n",
    "        class_name = new_data['class'].iloc[index]\n",
    "        print((file_name, class_name) in code_labels)\n",
    "        actual = code_labels[(file_name, class_name)]\n",
    "        if prediction==actual:\n",
    "            correct += 1\n",
    "        total += 1\n",
    "        print(f\"File: {file_name}, Class: {class_name}, Predicted Label: {prediction}, Actual Label: {actual}\")\n",
    "    \n",
    "    print(f\"Correct {correct}/{total} = {int(correct/total*100)}%\")\n",
    "\n",
    "except FileNotFoundError as e:\n",
    "    print(f\"Error: Could not find saved model or features: {e.filename}\")\n",
    "except Exception as e:\n",
    "    print(f\"An error occurred during prediction: {e}\")\n",
    "finally:\n",
    "    os.path.exists(ck_output_folder) and shutil.rmtree(ck_output_folder)"
   ]
  }
 ],
 "metadata": {
  "kernelspec": {
   "display_name": ".venv",
   "language": "python",
   "name": "python3"
  },
  "language_info": {
   "codemirror_mode": {
    "name": "ipython",
    "version": 3
   },
   "file_extension": ".py",
   "mimetype": "text/x-python",
   "name": "python",
   "nbconvert_exporter": "python",
   "pygments_lexer": "ipython3",
   "version": "3.12.8"
  }
 },
 "nbformat": 4,
 "nbformat_minor": 2
}
