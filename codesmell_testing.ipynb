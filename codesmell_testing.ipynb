{
 "cells": [
  {
   "cell_type": "code",
   "execution_count": 5,
   "metadata": {},
   "outputs": [],
   "source": [
    "import pandas as pd\n",
    "import joblib\n",
    "from sklearn.metrics import accuracy_score, f1_score, precision_score, recall_score"
   ]
  },
  {
   "cell_type": "code",
   "execution_count": 6,
   "metadata": {},
   "outputs": [],
   "source": [
    "pipeline_filename = 'output/code_smell_preprocessing_pipeline.joblib'\n",
    "loaded_pipeline = joblib.load(pipeline_filename)\n",
    "\n",
    "model_filename = 'output/code_smell_detection_model.joblib'\n",
    "loaded_model = joblib.load(model_filename)\n",
    "\n",
    "features_filename = 'output/selected_features.joblib'\n",
    "selected_features = joblib.load(features_filename)"
   ]
  },
  {
   "cell_type": "code",
   "execution_count": 7,
   "metadata": {},
   "outputs": [],
   "source": [
    "sample_data = pd.DataFrame({\n",
    "    'cbo': [5, 8, 2],\n",
    "    'wmc': [10, 15, 7],\n",
    "    'dit': [2, 3, 1],\n",
    "    'rfc': [15, 20, 10],\n",
    "    'lcom': [50, 70, 30],\n",
    "    'tcc': [0.5, 0.7, 0.4],\n",
    "    'lcc': [0.8, 0.9, 0.7],\n",
    "    'totalMethodsQty': [8, 12, 5],\n",
    "    'staticMethodsQty': [2, 3, 1],\n",
    "    'publicMethodsQty': [6, 9, 4],\n",
    "    'privateMethodsQty': [2, 3, 1],\n",
    "    'protectedMethodsQty': [0, 0, 0],\n",
    "    'defaultMethodsQty': [0, 0, 0],\n",
    "    'abstractMethodsQty': [0, 0, 0],\n",
    "    'finalMethodsQty': [1, 2, 0],\n",
    "    'synchronizedMethodsQty': [0, 0, 0],\n",
    "    'totalFieldsQty': [5, 7, 3],\n",
    "    'staticFieldsQty': [1, 1, 0],\n",
    "    'publicFieldsQty': [3, 4, 2],\n",
    "    'privateFieldsQty': [2, 3, 1],\n",
    "    'protectedFieldsQty': [0, 0, 0],\n",
    "    'defaultFieldsQty': [0, 0, 0],\n",
    "    'visibleFieldsQty': [3, 4, 2],\n",
    "    'finalFieldsQty': [1, 2, 0],\n",
    "    'synchronizedFieldsQty': [0, 0, 0],\n",
    "    'nosi': [20, 30, 15],\n",
    "    'loc': [50, 70, 40],\n",
    "    'returnQty': [2, 3, 1],\n",
    "    'loopQty': [1, 2, 0],\n",
    "    'comparisonsQty': [3, 4, 2],\n",
    "    'tryCatchQty': [0, 1, 0],\n",
    "    'parenthesizedExpsQty': [1, 2, 1],\n",
    "    'stringLiteralsQty': [2, 3, 1],\n",
    "    'numbersQty': [4, 5, 2],\n",
    "    'assignmentsQty': [5, 7, 3],\n",
    "    'mathOperationsQty': [2, 3, 1],\n",
    "    'variablesQty': [8, 10, 5],\n",
    "    'maxNestedBlocksQty': [2, 3, 1],\n",
    "    'anonymousClassesQty': [0, 0, 0],\n",
    "    'innerClassesQty': [0, 0, 0],\n",
    "    'lambdasQty': [0, 0, 0],\n",
    "    'uniqueWordsQty': [30, 40, 20],\n",
    "    'modifiers': [1, 1, 9],\n",
    "    'logStatementsQty': [1, 0, 0],\n",
    "    'from_project': [1, 1, 1],\n",
    "    'type_class': [1, 0, 0],\n",
    "    'type_innerclass': [0, 0, 1],\n",
    "    'type_interface': [0, 1, 0]\n",
    "})\n",
    "\n",
    "sample_data_selected = sample_data[selected_features]"
   ]
  },
  {
   "cell_type": "code",
   "execution_count": 8,
   "metadata": {},
   "outputs": [
    {
     "name": "stdout",
     "output_type": "stream",
     "text": [
      "Predictions: [0 0 0]\n"
     ]
    }
   ],
   "source": [
    "new_data_processed = loaded_pipeline.transform(sample_data_selected)\n",
    "predictions = loaded_model.predict(new_data_processed)\n",
    "\n",
    "print(f\"Predictions: {predictions}\")"
   ]
  }
 ],
 "metadata": {
  "kernelspec": {
   "display_name": "venv",
   "language": "python",
   "name": "python3"
  },
  "language_info": {
   "codemirror_mode": {
    "name": "ipython",
    "version": 3
   },
   "file_extension": ".py",
   "mimetype": "text/x-python",
   "name": "python",
   "nbconvert_exporter": "python",
   "pygments_lexer": "ipython3",
   "version": "3.11.4"
  }
 },
 "nbformat": 4,
 "nbformat_minor": 2
}
